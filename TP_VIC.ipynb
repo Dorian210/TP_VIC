{
 "cells": [
  {
   "cell_type": "markdown",
   "metadata": {},
   "source": [
    "# TP VIC 2D"
   ]
  },
  {
   "cell_type": "code",
   "execution_count": null,
   "metadata": {},
   "outputs": [],
   "source": [
    "import numpy as np\n",
    "import scipy.sparse as sps\n",
    "from scipy.sparse.linalg import spsolve\n",
    "import matplotlib.pyplot as plt\n",
    "from pyxel import Image\n",
    "from bsplyne import new_circle"
   ]
  },
  {
   "cell_type": "markdown",
   "metadata": {},
   "source": [
    "## I. Definition of the main operators"
   ]
  },
  {
   "cell_type": "markdown",
   "metadata": {},
   "source": [
    "### 1) Image"
   ]
  },
  {
   "cell_type": "markdown",
   "metadata": {},
   "source": [
    "We use the image from the article of J. Réthoré and M. François, stored in `im.pix` here.\n",
    "\n",
    "<small>J. Réthoré, M. François, Curve and boundaries measurement using B-splines and virtual images, Optics and Lasers in Engineering, Volume 52, 2014</small>"
   ]
  },
  {
   "cell_type": "code",
   "execution_count": null,
   "metadata": {},
   "outputs": [],
   "source": [
    "im = Image(\"image.jpg\")\n",
    "im.Load()\n",
    "im.Plot()"
   ]
  },
  {
   "cell_type": "markdown",
   "metadata": {},
   "source": [
    "The image $I$ is a grid of $M_1\\times M_2$ pixels.\n",
    "A sub-pixel interpolator $f$ is created from this image:\n",
    "$$f : \\begin{matrix}\n",
    "    [0, M_1]\\times [0, M_2] & \\to & [0, 255] \\\\\n",
    "    (x, y) & \\mapsto & f(x, y) \\\\\n",
    "\\end{matrix} \\quad .$$\n",
    "\n",
    "Here, the data is centered on the half pixel: $f(x + 0.5, y + 0.5) = I[x, y]$.\n",
    "\n",
    "The gradient of the interpolator is also defined for later as $\\nabla f$.\n",
    "\n",
    "Define the variables `M1` and `M2` as explained."
   ]
  },
  {
   "cell_type": "code",
   "execution_count": null,
   "metadata": {},
   "outputs": [],
   "source": [
    "M1, M2 = im.pix.shape\n",
    "print(f\"M1 = {M1}\\nM2 = {M2}\")"
   ]
  },
  {
   "cell_type": "markdown",
   "metadata": {},
   "source": [
    "\n",
    "Let's also define, the functions `f` and `grad_f` that both takes an array of $x$ and $y$ values stacked as $(x_0, ..., x_n, y_0, ..., y_n)^T$ as input.\n",
    "\n",
    "`f` returns an array of graylevels corresponding to the positions given as input and `grad_f` returns two arrays containning both derivatives w.r.t. $x$ and $y$.\n",
    "\n",
    "We can use the methods `Interp` and `InterpGrad` from the `Image` class."
   ]
  },
  {
   "cell_type": "code",
   "execution_count": null,
   "metadata": {},
   "outputs": [],
   "source": [
    "def f(xy):\n",
    "    return im.Interp(*np.split(xy - 0.5, 2))\n",
    "\n",
    "center_pix = np.array([15.5, 100.5])\n",
    "f_pix = f(center_pix)\n",
    "print(f\"f({center_pix}) = {f_pix}\\nI{(center_pix - 0.5).astype('int')} = {im.pix[tuple((center_pix - 0.5).astype('int'))]}\")"
   ]
  },
  {
   "cell_type": "code",
   "execution_count": null,
   "metadata": {},
   "outputs": [],
   "source": [
    "def grad_f(xy):\n",
    "    grad_x, grad_y = im.InterpGrad(*np.split(xy - 0.5, 2))\n",
    "    return grad_x, grad_y\n",
    "\n",
    "grad_f_pix = grad_f(center_pix)\n",
    "eps = 1e-7\n",
    "eps_x, eps_y = eps*np.eye(2)\n",
    "finite_diff_f_pix = (f(center_pix + eps_x) - f(center_pix - eps_x))/(2*eps), (f(center_pix + eps_y) - f(center_pix - eps_y))/(2*eps)\n",
    "print(f\"\"\"\n",
    "┌───────────────┬───────────────┬───────────────┐\n",
    "│               │    grad_x     │    grad_y     │\n",
    "├───────────────┼───────────────┼───────────────┤\n",
    "│ grad_f_pix    │ {grad_f_pix[0][0]:.10f} │ {grad_f_pix[1][0]:.10f} │\n",
    "├───────────────┼───────────────┼───────────────┤\n",
    "│ finite_diff   │ {finite_diff_f_pix[0][0]:.10f} │ {finite_diff_f_pix[1][0]:.10f} │\n",
    "└───────────────┴───────────────┴───────────────┘\n",
    "\"\"\")"
   ]
  },
  {
   "cell_type": "markdown",
   "metadata": {},
   "source": [
    "### 2) B-Spline and nomal neighborhood"
   ]
  },
  {
   "cell_type": "markdown",
   "metadata": {},
   "source": [
    "Let's define the contour as a B-spline parametric curved line.\n",
    "\n",
    "A B-spline is defined from its control points, its degree (or order) and its knot vector. Here, only the control points are covered for simplicity."
   ]
  },
  {
   "cell_type": "code",
   "execution_count": null,
   "metadata": {},
   "outputs": [],
   "source": [
    "spline, ctrl_pts = new_circle([M2/2 - 10, M1/2 - 10, 0], [0, 0, 1], (M2 - 100)/2)\n",
    "ctrl_pts = spline.orderElevation(ctrl_pts[:-1], [1])\n",
    "im.Plot()\n",
    "plt.gca().get_children()[9].set_zorder(-10)\n",
    "spline.plotMPL(ctrl_pts, ax=plt.gca())"
   ]
  },
  {
   "cell_type": "markdown",
   "metadata": {},
   "source": [
    "#### a) B-spline mapping"
   ]
  },
  {
   "cell_type": "markdown",
   "metadata": {},
   "source": [
    "This B-spline is a linear combination of functions, called basis functions and noted $N$. This sum is usually weighted by the control points stored in $X$, but can be weighted by anything to define a field.\n",
    "Lets define the B-spline mapping of a set of parameters (e.g. the control points) as:\n",
    "$$\\bm{x}(X) : \\begin{matrix}\n",
    "    [0, 1] & \\to & \\mathbb{R}^2 \\\\\n",
    "    \\xi & \\mapsto & N(\\xi) X \\\\\n",
    "\\end{matrix} \\quad ,$$\n",
    "\n",
    "where:\n",
    "* $X \\in \\mathbb{R}^{2n_{bf}}$ contains the stacked coordinates of the control points as $X = (X^x_0, ..., X^x_{n_bf}, X^y_0, ..., X^y_{n_bf})^T$, or any other field.\n",
    "* $N(\\xi) \\in \\mathbb{R}^{2\\times 2n_{bf}}$ is a matrix containing the B-spline basis functions. It is a sparse matrix thanks to the compact support of the functions.\n",
    "\n",
    "Given a displacement of the control points $U \\in \\mathbb{R}^{2n_{bf}}$, the displacement field can be expressed as $\\bm{x}(U)$."
   ]
  },
  {
   "cell_type": "markdown",
   "metadata": {},
   "source": [
    "Let's first define `X` from `ctrl_pts`."
   ]
  },
  {
   "cell_type": "code",
   "execution_count": null,
   "metadata": {},
   "outputs": [],
   "source": [
    "X = ctrl_pts.ravel()"
   ]
  },
  {
   "cell_type": "markdown",
   "metadata": {},
   "source": [
    "For ease of use, let's define a function `N` vectorized such that it takes an array of $\\xi$ values as input and outputs a sparse matrix $\\bm{N}$.\n",
    "This matrix is just multiple $N$ matrices stacked vertically and rearranged such that:\n",
    "$$\\bm{N} X = (\\bm{x}^x(\\xi_0), ..., \\bm{x}^x(\\xi_{n_{\\xi}}), \\bm{x}^y(\\xi_0), ..., \\bm{x}^y(\\xi_{n_{\\xi}}))^T.$$\n",
    "\n",
    "To define it we can use the method `DN` from the `BSpline` class, which create a sparse matrix $\\bm{N^e}$ such that :\n",
    "$$\\bm{N^e} \\begin{pmatrix}X^x_0 \\\\ \\vdots \\\\ X^x_{n_bf}\\end{pmatrix} = \\begin{pmatrix} \\bm{x}^x(\\xi_0) \\\\ \\vdots \\\\ \\bm{x}^x(\\xi_{n_{\\xi}}) \\end{pmatrix}$$"
   ]
  },
  {
   "cell_type": "code",
   "execution_count": null,
   "metadata": {},
   "outputs": [],
   "source": [
    "def N(xi):\n",
    "    return sps.block_diag([spline.DN([xi])]*2)\n",
    "\n",
    "xi = np.linspace(0, 1, 50)\n",
    "N_xi = N(xi)\n",
    "plt.scatter(*np.split(N_xi@X, 2))\n",
    "plt.gca().set_aspect(1)"
   ]
  },
  {
   "cell_type": "markdown",
   "metadata": {},
   "source": [
    "#### b) Normal neighborhood"
   ]
  },
  {
   "cell_type": "markdown",
   "metadata": {},
   "source": [
    "The normal neighborhood is defined as a width of search along the normal of the B-spline curve, of length $2h$ pixels. Let's define the width of search:"
   ]
  },
  {
   "cell_type": "code",
   "execution_count": null,
   "metadata": {},
   "outputs": [],
   "source": [
    "h = 20"
   ]
  },
  {
   "cell_type": "markdown",
   "metadata": {},
   "source": [
    "\n",
    "To do this, let's define a local basis. It is defined on a configuration $X$ (initial or deformed) as:\n",
    "$$\\left \\{ \\begin{matrix} \n",
    "    \\bm{t}(X)(\\xi) & = & N'(\\xi) X \\\\ \n",
    "    \\bm{n}(X)(\\xi) & = & R \\frac{\\bm{t}(X)(\\xi)}{\\|\\bm{t}(X)(\\xi)\\|} \n",
    "\\end{matrix} \\right . ,$$\n",
    "With $R = \\begin{pmatrix} 0 & -1 \\\\ 1 & 0 \\end{pmatrix}$.\n",
    "\n",
    "Using the normal $\\bm{n}$ the normal neighborhood is defined on a configuration $X$ as the sum of the B-spline mapping with a linear mapping along the normal:\n",
    "$$\\bm{x^n}(X) : \\begin{matrix}\n",
    "    [0, 1]\\times[-h, h] & \\to & \\mathbb{R}^2 \\\\\n",
    "    (\\xi, \\gamma) & \\mapsto & \\bm{x}(X)(\\xi) + \\gamma \\bm{n}(X)(\\xi) \\\\\n",
    "\\end{matrix} \\quad .$$"
   ]
  },
  {
   "cell_type": "markdown",
   "metadata": {},
   "source": [
    "Lets create a function `x_n` to compute the normal neighborhood of the B-spline from a set of $\\xi$ and $\\gamma$ values.\n",
    "The result is a vector stacking the $x$ and $y$ coordinates of the points in the normal neighborhood.\n",
    "Those points are computed at every combination of $\\xi$ and $\\gamma$ from the input."
   ]
  },
  {
   "cell_type": "code",
   "execution_count": null,
   "metadata": {},
   "outputs": [],
   "source": [
    "def x_n(xi, gamma):\n",
    "    x = spline(X.reshape((2, -1)), [xi], k=[0])\n",
    "    t = spline(X.reshape((2, -1)), [xi], k=[1])\n",
    "    n = np.vstack((-t[1], t[0]))/np.linalg.norm(t, axis=0)\n",
    "    ones = np.ones_like(gamma)\n",
    "    x_result = np.kron(x[0], ones) + np.kron(n[0], gamma)\n",
    "    y_result = np.kron(x[1], ones) + np.kron(n[1], gamma)\n",
    "    xy = np.hstack((x_result, y_result))\n",
    "    return xy\n",
    "\n",
    "xi = np.linspace(0, 1, 50)\n",
    "gamma = np.linspace(-h, h, 5)\n",
    "xy = x_n(xi, gamma)\n",
    "fig, ax = plt.subplots()\n",
    "spline.plotMPL(X.reshape((2, -1)), ax=ax)\n",
    "ax.scatter(*np.split(xy, 2))"
   ]
  },
  {
   "cell_type": "markdown",
   "metadata": {},
   "source": [
    "From here, the initial control points are considered constant, allowing us to drop certain dependances, simplifying the notations.\n",
    "To do so, bold operators evaluated in the control points will become regular (e.g. $n = \\bm{n}(X)$).\n",
    "\n",
    "A displacement of the normal neighborhood can be expressed as the difference between the intitial and deformed configuration normal neigborhoods:\n",
    "$$\\bm{u^n}(U) = \\bm{x^n}(X + U) - x^n .$$\n",
    "\n",
    "This displacement is partly induced by the rotation of both the normal and the tangent vectors by a same angle $\\bm{\\theta}$.\n",
    "The displacement is then retrieved from this rotation with:\n",
    "$$\\bm{u^n}(U)(\\xi, \\gamma) \\approx \\bm{x}(U) - \\gamma \\bm{\\theta}(U) \\frac{t}{\\|t\\|} .$$\n",
    "\n",
    "This angle can be approximated using a small rotation hypothesis:\n",
    "$$\\bm{\\theta}(U) \\approx \\frac{n \\cdot \\bm{t}(U)}{\\|\\bm{t}(X + U)\\|} \\approx \\frac{n \\cdot \\bm{t}(U)}{\\|t\\|} ,$$\n",
    "which gives the linear dependance on $U$:\n",
    "$$\\bm{\\theta}(U)(\\xi) \\approx \\frac{X^T N'(\\xi)^T R^T \\cdot N'(\\xi)}{\\|N'(\\xi) X\\|^2} U = \\Theta(\\xi) U .$$\n",
    "\n",
    "In the end, the displacement of a point in the normal neighborhood is approximated by:\n",
    "$$\\bm{u^n}(U) = J^n U ,$$\n",
    "where $J^n$ is given as:\n",
    "$$J^n(\\xi, \\gamma) = N(\\xi) - \\gamma \\frac{t(\\xi)}{\\|t(\\xi)\\|} \\Theta(\\xi)^T$$\n",
    "\n",
    "Lets define the function `J_n` that create the matrix $\\mathcal{J^n}$ from a set of $\\xi$ and $\\gamma$ values using the Kronecker product.\n",
    "\n",
    "$\\mathcal{J^n}(\\xi, \\gamma)$ is defined in the same way as $\\bm{N}$ in the sense that it gathers the matrices $J^n$ evaluated on every combinations of $\\xi$ and $\\gamma$ given as input.\n",
    "\n",
    "Due to its complexity, it is given here:"
   ]
  },
  {
   "cell_type": "code",
   "execution_count": null,
   "metadata": {},
   "outputs": [],
   "source": [
    "def J_n(xi, gamma):\n",
    "    N_elem = spline.DN([xi], k=[0])\n",
    "    ones = np.ones_like(gamma)\n",
    "    part_a = sps.block_diag([sps.kron(N_elem, ones[:, None])]*2)\n",
    "    N_prime_elem = spline.DN([xi], k=[1])\n",
    "    t = X.reshape((2, -1))@N_prime_elem.T\n",
    "    norm = np.linalg.norm(t, axis=0)\n",
    "    norm_sq = norm*norm\n",
    "    Theta = sps.hstack((N_prime_elem.multiply((-t[1]/norm_sq)[:, None]), N_prime_elem.multiply((t[0]/norm_sq)[:, None])))\n",
    "    t_x_Theta = Theta.multiply((t[0]/norm)[:, None])\n",
    "    t_y_Theta = Theta.multiply((t[1]/norm)[:, None])\n",
    "    part_b_x = sps.kron(t_x_Theta, gamma[:, None])\n",
    "    part_b_y = sps.kron(t_y_Theta, gamma[:, None])\n",
    "    part_b = sps.vstack((part_b_x, part_b_y))\n",
    "    return part_a - part_b\n",
    "\n",
    "xi = np.linspace(0, 1, 50)\n",
    "gamma = np.linspace(-h, h, 5)\n",
    "U = np.random.normal(size=X.size)*5\n",
    "xy = x_n(xi, gamma) + J_n(xi, gamma)@U\n",
    "fig, ax = plt.subplots()\n",
    "spline.plotMPL((X + U).reshape((2, -1)), ax=ax)\n",
    "ax.scatter(*np.split(xy, 2))"
   ]
  },
  {
   "cell_type": "markdown",
   "metadata": {},
   "source": [
    "### 3) Virtual Image"
   ]
  },
  {
   "cell_type": "markdown",
   "metadata": {},
   "source": [
    "The virtual image is defined as the target gray level transition profile. It is defined on the width of search $[-h, h]$ as:\n",
    "$$g : \\begin{matrix}\n",
    "    [-h, h] & \\to & [0, 255] \\\\\n",
    "    \\gamma & \\mapsto & g(\\gamma) \\\\\n",
    "\\end{matrix} \\quad .$$\n",
    "\n",
    "This profile does not need to be perfect. The algorithm will find the solution that fits best the mean encountered profile to the virtual image.\n",
    "\n",
    "In this case, by looking at the image, a step function from dark gray to light gray may be adapted: such profile can never be obtained but it will be approached as well as possible.\n",
    "\n",
    "Let's make a histogram of the image first to set the graylevels of interest."
   ]
  },
  {
   "cell_type": "code",
   "execution_count": null,
   "metadata": {},
   "outputs": [],
   "source": [
    "im.PlotHistogram()"
   ]
  },
  {
   "cell_type": "markdown",
   "metadata": {},
   "source": [
    "Let's create the function `g` that takes an array of $\\gamma$ values as input and returns an array containning their corresponding virtual image graylevels."
   ]
  },
  {
   "cell_type": "code",
   "execution_count": null,
   "metadata": {},
   "outputs": [],
   "source": [
    "def g(gamma):\n",
    "    fg = 210\n",
    "    bg = 10\n",
    "    return bg + (fg - bg)*(gamma>0)\n",
    "\n",
    "gamma = np.linspace(-h, h, 101)\n",
    "plt.plot(gamma, g(gamma))"
   ]
  },
  {
   "cell_type": "markdown",
   "metadata": {},
   "source": [
    "## II. Problem definition"
   ]
  },
  {
   "cell_type": "markdown",
   "metadata": {},
   "source": [
    "The problem at hand will be to find a displacement of the contol points $U$ to fit the normal neighborhood graylevels to the virtual image.\n",
    "This means to minimize a greylevel error given by:\n",
    "$$E_{VIC}(U) = \\frac{1}{2} \\int_0^1 \\int_{-h}^h \\bm{r}(U)(\\xi, \\gamma)^2 d\\gamma \\frac{d\\xi}{\\|x'(\\xi)\\|} ,$$\n",
    "where the residu is given by $\\bm{r}(U) = f\\bigg(x^n + J^n U\\bigg) - g$.\n",
    "\n",
    "Let's make a function `r` that creates a residu vector from $x^n$, $J^n$, $U$ and the evaluation of $g$."
   ]
  },
  {
   "cell_type": "code",
   "execution_count": null,
   "metadata": {},
   "outputs": [],
   "source": [
    "def r(xn, Jn, U, g_gamma):\n",
    "    return f(xn + Jn@U) - g_gamma\n",
    "\n",
    "xi = np.linspace(0, 1, 500)\n",
    "gamma = np.linspace(-h, h, 50)\n",
    "U = np.random.normal(size=X.size)*5\n",
    "xn = x_n(xi, gamma)\n",
    "Jn = J_n(xi, gamma)\n",
    "g_gamma = g(np.kron(np.ones_like(xi), gamma))\n",
    "r_eval = r(xn, Jn, U, g_gamma)\n",
    "fig, (ax1, ax2) = plt.subplots(1, 2)\n",
    "ax1.imshow(im.pix, cmap='gray')\n",
    "spline.plotMPL((X + U).reshape((2, -1)), ax=ax1)\n",
    "ax1.scatter(*np.split(xn + Jn@U, 2), s=.1)\n",
    "ax1.get_legend().remove()\n",
    "ax2.imshow(r_eval.reshape((xi.size, gamma.size)).T, cmap=\"coolwarm\")"
   ]
  },
  {
   "cell_type": "markdown",
   "metadata": {},
   "source": [
    "In order to solve this problem a Gauss-Newton method is applied to do so, the gradient of the residu is needed, which is given by:\n",
    "$$\\nabla\\bm{r}(U) = \\nabla f \\bigg(x^n + J^n U\\bigg) J^n .$$\n",
    "\n",
    "Let's make a function `grad_r` that makes this from $x^n$, $J^n$ and $U$. The result is a matrix because there is one gradient in each row, corresponding to each $(\\xi, \\gamma)$ pair."
   ]
  },
  {
   "cell_type": "code",
   "execution_count": null,
   "metadata": {},
   "outputs": [],
   "source": [
    "def grad_r(xn, Jn, U):\n",
    "    gradx, grady = grad_f(xn + Jn@U)\n",
    "    n = Jn.shape[0]\n",
    "    return Jn[:n//2].multiply(gradx[:, None]) + Jn[n//2:].multiply(grady[:, None])\n",
    "\n",
    "grad_r(xn, Jn, U)"
   ]
  },
  {
   "cell_type": "markdown",
   "metadata": {},
   "source": [
    "The gradient of the cost function $E_{VIC}$  is then expressed by:\n",
    "$$\\nabla E_{VIC}(U) \\approx \\int_0^1 \\int_{-h}^h \\bm{r}(U)(\\xi, \\gamma) \\nabla\\bm{r}(U)(\\xi, \\gamma) d\\gamma \\frac{d\\xi}{\\|x'(\\xi)\\|}$$\n",
    "\n",
    "The Gauss-Newton algorithm is based on the convergence of this residu to $0$. If this is the case, the Hessian matrix of the cost function can be approximated by:\n",
    "$$H E_{VIC}(U) \\approx \\int_0^1 \\int_{-h}^h \\nabla\\bm{r}(U)(\\xi, \\gamma) \\nabla\\bm{r}(U)^T(\\xi, \\gamma) d\\gamma \\frac{d\\xi}{\\|x'(\\xi)\\|}$$\n",
    "\n",
    "Let's make a function that computes these operators:"
   ]
  },
  {
   "cell_type": "code",
   "execution_count": null,
   "metadata": {},
   "outputs": [],
   "source": [
    "def E_vic(xn, Jn, U, g_gamma, scaled_intg_weights):\n",
    "    r_eval = r(xn, Jn, U, g_gamma)\n",
    "    grad_r_eval = grad_r(xn, Jn, U)\n",
    "    grad_E = grad_r_eval.multiply((r_eval*scaled_intg_weights)[:, None]).sum(axis=0).A.ravel()\n",
    "    hess_E = grad_r_eval.multiply(scaled_intg_weights[:, None]).T@grad_r_eval\n",
    "    return grad_E, hess_E"
   ]
  },
  {
   "cell_type": "markdown",
   "metadata": {},
   "source": [
    "\n",
    "This problem is ill-posed due to the non uniqueness of the solution. To solve this issue, let's define a regularization term: a 2D infinitely thin beam of rigidity matrix $K$.\n",
    "\n",
    "This matrix is computed through a Gauss-Legendre integration scheme\n",
    "This rigidity is coded in the function `K_rigidity` below, and stored in the variable `K`:"
   ]
  },
  {
   "cell_type": "code",
   "execution_count": null,
   "metadata": {},
   "outputs": [],
   "source": [
    "def K_rigidity(xi, intg_weights):\n",
    "    N_prime_elem = spline.DN([xi], k=[1])\n",
    "    t = X.reshape((2, -1))@N_prime_elem.T\n",
    "    norm_sq = (t*t).sum(axis=0)\n",
    "    N_prime = sps.block_diag([N_prime_elem]*2)\n",
    "    alpha = N_prime.multiply((t/norm_sq[None, :]).ravel()[:, None])\n",
    "    K_result = alpha.multiply(np.hstack([intg_weights/np.sqrt(norm_sq)]*2)[:, None]).T@alpha\n",
    "    return K_result\n",
    "\n",
    "(xi,), (dxi,) = spline.gauss_legendre_for_integration()\n",
    "K = K_rigidity(xi, dxi)"
   ]
  },
  {
   "cell_type": "markdown",
   "metadata": {},
   "source": [
    "## III. Problem resolution"
   ]
  },
  {
   "cell_type": "markdown",
   "metadata": {},
   "source": [
    "With the regularisation term included, the problem can be written as the following:\n",
    "$$U^\\star = \\arg \\min_{U \\in \\mathbb{R}^{2n_{bf}}} E_{VIC}(U) + \\frac{\\rho}{2} U^T K U$$\n",
    "\n",
    "Let's define `rho`:"
   ]
  },
  {
   "cell_type": "code",
   "execution_count": null,
   "metadata": {},
   "outputs": [],
   "source": [
    "rho = 10_000"
   ]
  },
  {
   "cell_type": "markdown",
   "metadata": {},
   "source": [
    "\n",
    "The Virtual Image Correlation term is integrated using a Riemann scheme. Let's define this discretization:"
   ]
  },
  {
   "cell_type": "code",
   "execution_count": null,
   "metadata": {},
   "outputs": [],
   "source": [
    "(xi,), (dxi,) = spline.linspace_for_integration(n_eval_per_elem=50)\n",
    "gamma = np.linspace(-h, h, 50)\n",
    "dgamma = 2*h/50*np.ones_like(gamma)\n",
    "scaled_intg_weights = np.kron(dxi/np.linalg.norm(spline(X.reshape((2, -1)), [xi], k=[1]), axis=0), dgamma)"
   ]
  },
  {
   "cell_type": "markdown",
   "metadata": {},
   "source": [
    "Finally, let's solve the problem with a Gauss-Newton method:"
   ]
  },
  {
   "cell_type": "code",
   "execution_count": null,
   "metadata": {},
   "outputs": [],
   "source": [
    "U = np.zeros_like(X)\n",
    "xn = x_n(xi, gamma)\n",
    "Jn = J_n(xi, gamma)\n",
    "g_gamma = g(np.kron(np.ones_like(xi), gamma))\n",
    "eps = 5e-3\n",
    "for i in range(100):\n",
    "    grad_E, hess_E = E_vic(xn, Jn, U, g_gamma, scaled_intg_weights)\n",
    "    A = hess_E + rho*K\n",
    "    b = -grad_E - rho*U.T@K\n",
    "    dU = spsolve(A, b)\n",
    "    displ = np.linalg.norm(dU)/np.linalg.norm(U)\n",
    "    U += dU\n",
    "    if i%5==0 or displ<eps:\n",
    "        print(f\"Iteration {i}: relative displacement of {displ}\")\n",
    "    if displ<eps:\n",
    "        break\n",
    "r_eval = r(xn, Jn, U, g_gamma)\n",
    "plt.imshow(r_eval.reshape((xi.size, gamma.size)).T, cmap=\"coolwarm\")\n",
    "plt.show()\n",
    "im.Plot()\n",
    "plt.gca().get_children()[9].set_zorder(-10)\n",
    "spline.plotMPL((X + U).reshape((2, -1)), ax=plt.gca())"
   ]
  }
 ],
 "metadata": {
  "kernelspec": {
   "display_name": ".venv",
   "language": "python",
   "name": "python3"
  },
  "language_info": {
   "codemirror_mode": {
    "name": "ipython",
    "version": 3
   },
   "file_extension": ".py",
   "mimetype": "text/x-python",
   "name": "python",
   "nbconvert_exporter": "python",
   "pygments_lexer": "ipython3",
   "version": "3.9.18"
  }
 },
 "nbformat": 4,
 "nbformat_minor": 4
}
